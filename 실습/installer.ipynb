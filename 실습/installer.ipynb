{
 "cells": [
  {
   "cell_type": "code",
   "execution_count": 4,
   "id": "3b267faf",
   "metadata": {},
   "outputs": [
    {
     "name": "stdout",
     "output_type": "stream",
     "text": [
      "Collecting pandas\n",
      "  Downloading pandas-1.5.3-cp39-cp39-win_amd64.whl (10.9 MB)\n",
      "     ---------------------------------------- 0.0/10.9 MB ? eta -:--:--\n",
      "     -- ------------------------------------- 0.8/10.9 MB 16.3 MB/s eta 0:00:01\n",
      "     ---------- ----------------------------- 2.7/10.9 MB 29.4 MB/s eta 0:00:01\n",
      "     -------------------- ------------------- 5.5/10.9 MB 39.4 MB/s eta 0:00:01\n",
      "     ----------------------------- ---------- 8.2/10.9 MB 43.5 MB/s eta 0:00:01\n",
      "     --------------------------------------  10.9/10.9 MB 54.7 MB/s eta 0:00:01\n",
      "     --------------------------------------- 10.9/10.9 MB 46.9 MB/s eta 0:00:00\n",
      "Requirement already satisfied: python-dateutil>=2.8.1 in c:\\users\\godimode\\appdata\\local\\programs\\python\\python39\\lib\\site-packages (from pandas) (2.8.2)\n",
      "Requirement already satisfied: pytz>=2020.1 in c:\\users\\godimode\\appdata\\local\\programs\\python\\python39\\lib\\site-packages (from pandas) (2022.7.1)\n",
      "Requirement already satisfied: numpy>=1.20.3 in c:\\users\\godimode\\appdata\\local\\programs\\python\\python39\\lib\\site-packages (from pandas) (1.24.2)\n",
      "Requirement already satisfied: six>=1.5 in c:\\users\\godimode\\appdata\\local\\programs\\python\\python39\\lib\\site-packages (from python-dateutil>=2.8.1->pandas) (1.16.0)\n",
      "Installing collected packages: pandas\n",
      "Successfully installed pandas-1.5.3\n"
     ]
    }
   ],
   "source": [
    "!pip install pandas"
   ]
  },
  {
   "cell_type": "code",
   "execution_count": 5,
   "id": "13be4ab2",
   "metadata": {},
   "outputs": [
    {
     "name": "stdout",
     "output_type": "stream",
     "text": [
      "Requirement already satisfied: numpy in c:\\users\\godimode\\appdata\\local\\programs\\python\\python39\\lib\\site-packages (1.24.2)\n"
     ]
    }
   ],
   "source": [
    "!pip install numpy"
   ]
  },
  {
   "cell_type": "code",
   "execution_count": 6,
   "id": "5fcb083c",
   "metadata": {},
   "outputs": [],
   "source": [
    "import numpy as np"
   ]
  },
  {
   "cell_type": "code",
   "execution_count": 7,
   "id": "baa871b5",
   "metadata": {},
   "outputs": [
    {
     "name": "stdout",
     "output_type": "stream",
     "text": [
      "Collecting scipy\n",
      "  Downloading scipy-1.10.1-cp39-cp39-win_amd64.whl (42.5 MB)\n",
      "     ---------------------------------------- 0.0/42.5 MB ? eta -:--:--\n",
      "     ---------------------------------------- 0.5/42.5 MB 15.2 MB/s eta 0:00:03\n",
      "     -- ------------------------------------- 2.5/42.5 MB 32.4 MB/s eta 0:00:02\n",
      "     ---- ----------------------------------- 4.3/42.5 MB 39.3 MB/s eta 0:00:01\n",
      "     ------ --------------------------------- 7.2/42.5 MB 46.0 MB/s eta 0:00:01\n",
      "     --------- ----------------------------- 10.3/42.5 MB 46.9 MB/s eta 0:00:01\n",
      "     ---------- ---------------------------- 11.6/42.5 MB 50.4 MB/s eta 0:00:01\n",
      "     ------------- ------------------------- 15.1/42.5 MB 59.5 MB/s eta 0:00:01\n",
      "     --------------- ----------------------- 17.0/42.5 MB 50.4 MB/s eta 0:00:01\n",
      "     ----------------- --------------------- 19.6/42.5 MB 54.4 MB/s eta 0:00:01\n",
      "     -------------------- ------------------ 22.7/42.5 MB 59.5 MB/s eta 0:00:01\n",
      "     ----------------------- --------------- 25.2/42.5 MB 54.4 MB/s eta 0:00:01\n",
      "     ------------------------- ------------- 27.7/42.5 MB 59.8 MB/s eta 0:00:01\n",
      "     ---------------------------- ---------- 30.6/42.5 MB 59.5 MB/s eta 0:00:01\n",
      "     ------------------------------ -------- 33.5/42.5 MB 59.5 MB/s eta 0:00:01\n",
      "     --------------------------------- ----- 36.3/42.5 MB 59.5 MB/s eta 0:00:01\n",
      "     ------------------------------------ -- 39.2/42.5 MB 59.5 MB/s eta 0:00:01\n",
      "     --------------------------------------  41.8/42.5 MB 59.5 MB/s eta 0:00:01\n",
      "     --------------------------------------  42.5/42.5 MB 59.8 MB/s eta 0:00:01\n",
      "     --------------------------------------  42.5/42.5 MB 59.8 MB/s eta 0:00:01\n",
      "     --------------------------------------- 42.5/42.5 MB 38.6 MB/s eta 0:00:00\n",
      "Requirement already satisfied: numpy<1.27.0,>=1.19.5 in c:\\users\\godimode\\appdata\\local\\programs\\python\\python39\\lib\\site-packages (from scipy) (1.24.2)\n",
      "Installing collected packages: scipy\n",
      "Successfully installed scipy-1.10.1\n"
     ]
    }
   ],
   "source": [
    "!pip install scipy"
   ]
  },
  {
   "cell_type": "code",
   "execution_count": 9,
   "id": "9bdbd75c",
   "metadata": {},
   "outputs": [
    {
     "name": "stdout",
     "output_type": "stream",
     "text": [
      "Collecting statsmodels\n",
      "  Downloading statsmodels-0.13.5-cp39-cp39-win_amd64.whl (9.2 MB)\n",
      "     ---------------------------------------- 0.0/9.2 MB ? eta -:--:--\n",
      "     -- ------------------------------------- 0.5/9.2 MB 15.9 MB/s eta 0:00:01\n",
      "     ---------- ----------------------------- 2.5/9.2 MB 31.5 MB/s eta 0:00:01\n",
      "     --------------- ------------------------ 3.7/9.2 MB 29.2 MB/s eta 0:00:01\n",
      "     ----------------------------- ---------- 6.9/9.2 MB 36.6 MB/s eta 0:00:01\n",
      "     ------------------------------- -------- 7.3/9.2 MB 33.2 MB/s eta 0:00:01\n",
      "     ---------------------------------------- 9.2/9.2 MB 34.4 MB/s eta 0:00:00\n",
      "Requirement already satisfied: numpy>=1.17 in c:\\users\\godimode\\appdata\\local\\programs\\python\\python39\\lib\\site-packages (from statsmodels) (1.24.2)\n",
      "Requirement already satisfied: scipy>=1.3 in c:\\users\\godimode\\appdata\\local\\programs\\python\\python39\\lib\\site-packages (from statsmodels) (1.10.1)\n",
      "Requirement already satisfied: pandas>=0.25 in c:\\users\\godimode\\appdata\\local\\programs\\python\\python39\\lib\\site-packages (from statsmodels) (1.5.3)\n",
      "Collecting patsy>=0.5.2\n",
      "  Downloading patsy-0.5.3-py2.py3-none-any.whl (233 kB)\n",
      "     ---------------------------------------- 0.0/233.8 kB ? eta -:--:--\n",
      "     ------------------------------------- 233.8/233.8 kB 14.9 MB/s eta 0:00:00\n",
      "Requirement already satisfied: packaging>=21.3 in c:\\users\\godimode\\appdata\\local\\programs\\python\\python39\\lib\\site-packages (from statsmodels) (23.0)\n",
      "Requirement already satisfied: pytz>=2020.1 in c:\\users\\godimode\\appdata\\local\\programs\\python\\python39\\lib\\site-packages (from pandas>=0.25->statsmodels) (2022.7.1)\n",
      "Requirement already satisfied: python-dateutil>=2.8.1 in c:\\users\\godimode\\appdata\\local\\programs\\python\\python39\\lib\\site-packages (from pandas>=0.25->statsmodels) (2.8.2)\n",
      "Requirement already satisfied: six in c:\\users\\godimode\\appdata\\local\\programs\\python\\python39\\lib\\site-packages (from patsy>=0.5.2->statsmodels) (1.16.0)\n",
      "Installing collected packages: patsy, statsmodels\n",
      "Successfully installed patsy-0.5.3 statsmodels-0.13.5\n"
     ]
    }
   ],
   "source": [
    "!pip install statsmodels"
   ]
  },
  {
   "cell_type": "code",
   "execution_count": null,
   "id": "134e2fef",
   "metadata": {},
   "outputs": [],
   "source": [
    "!pip install scikit-lear"
   ]
  }
 ],
 "metadata": {
  "kernelspec": {
   "display_name": "Python 3 (ipykernel)",
   "language": "python",
   "name": "python3"
  },
  "language_info": {
   "codemirror_mode": {
    "name": "ipython",
    "version": 3
   },
   "file_extension": ".py",
   "mimetype": "text/x-python",
   "name": "python",
   "nbconvert_exporter": "python",
   "pygments_lexer": "ipython3",
   "version": "3.9.13"
  }
 },
 "nbformat": 4,
 "nbformat_minor": 5
}
