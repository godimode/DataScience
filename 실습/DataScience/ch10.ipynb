{
 "cells": [
  {
   "cell_type": "code",
   "execution_count": 1,
   "id": "5cac4883",
   "metadata": {},
   "outputs": [],
   "source": [
    "import pandas as pd"
   ]
  },
  {
   "cell_type": "code",
   "execution_count": 2,
   "id": "591a4fe8",
   "metadata": {},
   "outputs": [],
   "source": [
    "def udf_sum(x, y):\n",
    "    return x + y"
   ]
  },
  {
   "cell_type": "code",
   "execution_count": 3,
   "id": "dd2b0aaa",
   "metadata": {},
   "outputs": [
    {
     "data": {
      "text/plain": [
       "0     6\n",
       "1     8\n",
       "2    10\n",
       "dtype: int64"
      ]
     },
     "execution_count": 3,
     "metadata": {},
     "output_type": "execute_result"
    }
   ],
   "source": [
    "udf_sum(pd.Series([2,4,6]), 4)"
   ]
  },
  {
   "cell_type": "code",
   "execution_count": 4,
   "id": "99611744",
   "metadata": {},
   "outputs": [],
   "source": [
    "def udf_sum2(x, y):\n",
    "    return x.sum() + y"
   ]
  },
  {
   "cell_type": "code",
   "execution_count": 6,
   "id": "9604ec11",
   "metadata": {},
   "outputs": [
    {
     "data": {
      "text/plain": [
       "16"
      ]
     },
     "execution_count": 6,
     "metadata": {},
     "output_type": "execute_result"
    }
   ],
   "source": [
    "udf_sum2(pd.Series([2,4,6]), 4)"
   ]
  },
  {
   "cell_type": "code",
   "execution_count": 7,
   "id": "cc906d1d",
   "metadata": {},
   "outputs": [],
   "source": [
    "def udf_mean1(x):\n",
    "    return round(x.mean(), 3)"
   ]
  },
  {
   "cell_type": "code",
   "execution_count": 8,
   "id": "cb6a6456",
   "metadata": {},
   "outputs": [
    {
     "data": {
      "text/plain": [
       "11.167"
      ]
     },
     "execution_count": 8,
     "metadata": {},
     "output_type": "execute_result"
    }
   ],
   "source": [
    "udf_mean1(pd.Series([4,6,8, 1,48, 0.00412]))"
   ]
  },
  {
   "cell_type": "code",
   "execution_count": 13,
   "id": "0c0ae351",
   "metadata": {},
   "outputs": [],
   "source": [
    "def funA(x):\n",
    "    return x.pow(2).sum()**0.5"
   ]
  },
  {
   "cell_type": "code",
   "execution_count": 14,
   "id": "50da2cc9",
   "metadata": {},
   "outputs": [
    {
     "data": {
      "text/plain": [
       "22.693611435820433"
      ]
     },
     "execution_count": 14,
     "metadata": {},
     "output_type": "execute_result"
    }
   ],
   "source": [
    "funA(pd.Series([3,5,9,20]))"
   ]
  },
  {
   "cell_type": "code",
   "execution_count": null,
   "id": "5a058961",
   "metadata": {},
   "outputs": [],
   "source": []
  },
  {
   "cell_type": "code",
   "execution_count": 15,
   "id": "be6831af",
   "metadata": {},
   "outputs": [],
   "source": [
    "# 표준화(Standardization)"
   ]
  },
  {
   "cell_type": "code",
   "execution_count": 16,
   "id": "8d555e88",
   "metadata": {},
   "outputs": [],
   "source": [
    "def nor_std(x):\n",
    "    return (x - x.mean()) / x.std()"
   ]
  },
  {
   "cell_type": "code",
   "execution_count": 17,
   "id": "7e2032a4",
   "metadata": {},
   "outputs": [],
   "source": [
    "# MinMax 정규화"
   ]
  },
  {
   "cell_type": "code",
   "execution_count": 18,
   "id": "8c5b6da5",
   "metadata": {},
   "outputs": [],
   "source": [
    "def nor_minmax(x):\n",
    "    return (x - x.min()) / (x.max() - x.min())"
   ]
  },
  {
   "cell_type": "code",
   "execution_count": null,
   "id": "06df17b9",
   "metadata": {},
   "outputs": [],
   "source": []
  }
 ],
 "metadata": {
  "kernelspec": {
   "display_name": "Python 3 (ipykernel)",
   "language": "python",
   "name": "python3"
  },
  "language_info": {
   "codemirror_mode": {
    "name": "ipython",
    "version": 3
   },
   "file_extension": ".py",
   "mimetype": "text/x-python",
   "name": "python",
   "nbconvert_exporter": "python",
   "pygments_lexer": "ipython3",
   "version": "3.9.13"
  }
 },
 "nbformat": 4,
 "nbformat_minor": 5
}
