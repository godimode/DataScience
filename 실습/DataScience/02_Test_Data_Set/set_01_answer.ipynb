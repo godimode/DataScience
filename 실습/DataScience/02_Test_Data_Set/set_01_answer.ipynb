{
 "cells": [
  {
   "cell_type": "code",
   "execution_count": 1,
   "id": "7af28bdc",
   "metadata": {},
   "outputs": [],
   "source": [
    "import pandas as pd"
   ]
  },
  {
   "cell_type": "code",
   "execution_count": 2,
   "id": "bffe2ee4",
   "metadata": {},
   "outputs": [
    {
     "data": {
      "text/html": [
       "<div>\n",
       "<style scoped>\n",
       "    .dataframe tbody tr th:only-of-type {\n",
       "        vertical-align: middle;\n",
       "    }\n",
       "\n",
       "    .dataframe tbody tr th {\n",
       "        vertical-align: top;\n",
       "    }\n",
       "\n",
       "    .dataframe thead th {\n",
       "        text-align: right;\n",
       "    }\n",
       "</style>\n",
       "<table border=\"1\" class=\"dataframe\">\n",
       "  <thead>\n",
       "    <tr style=\"text-align: right;\">\n",
       "      <th></th>\n",
       "      <th>Product_Name</th>\n",
       "      <th>Stars</th>\n",
       "      <th>Ratings</th>\n",
       "      <th>Reviews</th>\n",
       "      <th>current_price</th>\n",
       "      <th>MRP</th>\n",
       "      <th>channel</th>\n",
       "      <th>Operating_system</th>\n",
       "      <th>Picture_quality</th>\n",
       "      <th>Speaker</th>\n",
       "      <th>Frequency</th>\n",
       "    </tr>\n",
       "  </thead>\n",
       "  <tbody>\n",
       "    <tr>\n",
       "      <th>0</th>\n",
       "      <td>Croma</td>\n",
       "      <td>4.2</td>\n",
       "      <td>1773</td>\n",
       "      <td>217</td>\n",
       "      <td>7990</td>\n",
       "      <td>20000</td>\n",
       "      <td>HD Ready 1366 x 768 Pixels</td>\n",
       "      <td>20 Speaker Output</td>\n",
       "      <td>60 Hz Refresh Rate</td>\n",
       "      <td>2 x HDMI | 2 x USB</td>\n",
       "      <td>1 Year Warranty</td>\n",
       "    </tr>\n",
       "    <tr>\n",
       "      <th>1</th>\n",
       "      <td>Adsun</td>\n",
       "      <td>3.8</td>\n",
       "      <td>6742</td>\n",
       "      <td>930</td>\n",
       "      <td>8699</td>\n",
       "      <td>21999</td>\n",
       "      <td>Netflix|Disney+Hotstar|Youtube</td>\n",
       "      <td>Operating System: Android Based</td>\n",
       "      <td>HD Ready 1366 x 768 Pixels</td>\n",
       "      <td>20 W Speaker Output</td>\n",
       "      <td>60 Hz Refresh Rate</td>\n",
       "    </tr>\n",
       "  </tbody>\n",
       "</table>\n",
       "</div>"
      ],
      "text/plain": [
       "  Product_Name  Stars  Ratings  Reviews  current_price    MRP  \\\n",
       "0        Croma    4.2     1773      217           7990  20000   \n",
       "1        Adsun    3.8     6742      930           8699  21999   \n",
       "\n",
       "                          channel                 Operating_system  \\\n",
       "0      HD Ready 1366 x 768 Pixels                20 Speaker Output   \n",
       "1  Netflix|Disney+Hotstar|Youtube  Operating System: Android Based   \n",
       "\n",
       "              Picture_quality              Speaker           Frequency  \n",
       "0          60 Hz Refresh Rate   2 x HDMI | 2 x USB     1 Year Warranty  \n",
       "1  HD Ready 1366 x 768 Pixels  20 W Speaker Output  60 Hz Refresh Rate  "
      ]
     },
     "execution_count": 2,
     "metadata": {},
     "output_type": "execute_result"
    }
   ],
   "source": [
    "df = pd.read_csv(\"TV.csv\")\n",
    "df.head(2)"
   ]
  },
  {
   "cell_type": "code",
   "execution_count": 3,
   "id": "b8594284",
   "metadata": {
    "scrolled": true
   },
   "outputs": [
    {
     "data": {
      "text/plain": [
       "(666, 11)"
      ]
     },
     "execution_count": 3,
     "metadata": {},
     "output_type": "execute_result"
    }
   ],
   "source": [
    "df.shape"
   ]
  },
  {
   "cell_type": "code",
   "execution_count": null,
   "id": "45b81959",
   "metadata": {},
   "outputs": [],
   "source": []
  },
  {
   "cell_type": "code",
   "execution_count": 4,
   "id": "6748a157",
   "metadata": {},
   "outputs": [
    {
     "data": {
      "text/plain": [
       "array(['1 Year Warranty', '60 Hz Refresh Rate', '50 Hz Refresh Rate',\n",
       "       '1 Year Warranty on Product', 'A+ Grade Panel',\n",
       "       'A+ Grade Premium Dot Free Panel', 'Thin Bezel Design',\n",
       "       'Zero Dot A+ Panel', 'A+ Grade', 'A+Grade',\n",
       "       '1 Year Candes Domestic Warranty',\n",
       "       '1 Year Comprehensive Warranty and 1 Year Additional on Panel',\n",
       "       'LED', '3 x HDMI | 1 x USB', '1 year comprehensive warranty',\n",
       "       '120 Hz Refresh Rate',\n",
       "       '1 Year LG India Comprehensive Warranty and Additional 1 Year Warranty is Applicable on Panel/Module',\n",
       "       '1 Year Warranty on Product + 1 Year Additional on Panel',\n",
       "       'A+ Panel', '3 x HDMI | 2 x USB', '1 Year Manufacturer Warranty',\n",
       "       '2 x HDMI | 1 x USB', '100 Hz Refresh Rate',\n",
       "       '1 year sony Domestic Warranty', '800 Hz Refresh Rate',\n",
       "       '200 Hz Refresh Rate',\n",
       "       '1 Year LG India Comprehensive Warranty and additional 1 year Warranty is applicable on panel/module',\n",
       "       'A+', '1 Year Manufaturer Warranty', '4 x HDMI | 3 x USB', 'IPS',\n",
       "       '3 Years Warranty on Product',\n",
       "       '1 Year Warranty on Product and Additional 1 Year for Panel',\n",
       "       '3 x HDMI | 3 x USB', '1 Year From Date of Purchase',\n",
       "       '2 Year Comprehensive Domestic Warranty', 'VA', '1 YEAR',\n",
       "       '1 Year Comprehensive Warranty on Product and Additional 1 Year on Panel',\n",
       "       '1 Year on product', 'A+ Grade IPS', '2 YEAR', '2 Years',\n",
       "       '1 Year Standard Warranty and 1 Year Warranty on Panel from Samsung',\n",
       "       '1 Year Comprehensive Warranty', 'COMES WITH  1YR  WARRANTY',\n",
       "       '1 + 1 Year Warranty',\n",
       "       '1 Year Comprehensive Warranty and 1 Year Additional Warranty on Panel',\n",
       "       '1 Year Company Warranty', 'A Grade', 'A Grade Panel',\n",
       "       '1 + 2 Year',\n",
       "       '1 Year Standard Warranty Provided By The Manufacturer From Date Of Purchase',\n",
       "       'LED Panel', '2 x HDMI | 2 x USB', '1 x HDMI | 1 x USB',\n",
       "       'Zero Dots LED Panel', '1 Year Maser India Warranty',\n",
       "       '3 Years Warranty'], dtype=object)"
      ]
     },
     "execution_count": 4,
     "metadata": {},
     "output_type": "execute_result"
    }
   ],
   "source": [
    "df[\"Frequency\"].unique()"
   ]
  },
  {
   "cell_type": "code",
   "execution_count": 7,
   "id": "63b71b1f",
   "metadata": {},
   "outputs": [
    {
     "data": {
      "text/html": [
       "<div>\n",
       "<style scoped>\n",
       "    .dataframe tbody tr th:only-of-type {\n",
       "        vertical-align: middle;\n",
       "    }\n",
       "\n",
       "    .dataframe tbody tr th {\n",
       "        vertical-align: top;\n",
       "    }\n",
       "\n",
       "    .dataframe thead th {\n",
       "        text-align: right;\n",
       "    }\n",
       "</style>\n",
       "<table border=\"1\" class=\"dataframe\">\n",
       "  <thead>\n",
       "    <tr style=\"text-align: right;\">\n",
       "      <th></th>\n",
       "      <th>Picture_quality</th>\n",
       "      <th>Speaker</th>\n",
       "      <th>Frequency</th>\n",
       "    </tr>\n",
       "  </thead>\n",
       "  <tbody>\n",
       "    <tr>\n",
       "      <th>0</th>\n",
       "      <td>60 Hz Refresh Rate</td>\n",
       "      <td>2 x HDMI | 2 x USB</td>\n",
       "      <td>1 Year Warranty</td>\n",
       "    </tr>\n",
       "    <tr>\n",
       "      <th>1</th>\n",
       "      <td>HD Ready 1366 x 768 Pixels</td>\n",
       "      <td>20 W Speaker Output</td>\n",
       "      <td>60 Hz Refresh Rate</td>\n",
       "    </tr>\n",
       "  </tbody>\n",
       "</table>\n",
       "</div>"
      ],
      "text/plain": [
       "              Picture_quality              Speaker           Frequency\n",
       "0          60 Hz Refresh Rate   2 x HDMI | 2 x USB     1 Year Warranty\n",
       "1  HD Ready 1366 x 768 Pixels  20 W Speaker Output  60 Hz Refresh Rate"
      ]
     },
     "execution_count": 7,
     "metadata": {},
     "output_type": "execute_result"
    }
   ],
   "source": [
    "df_sub = df.iloc[:, -3:]\n",
    "df_sub.head(2)"
   ]
  },
  {
   "cell_type": "code",
   "execution_count": 39,
   "id": "7da99ea5",
   "metadata": {},
   "outputs": [],
   "source": [
    "df_f1 = df_sub[\"Picture_quality\"].str.split(\"Hz\", expand=True)\n",
    "df_f2 = df_sub[\"Speaker\"].str.split(\"Hz\", expand=True)\n",
    "df_f3 = df_sub[\"Frequency\"].str.split(\"Hz\", expand=True)"
   ]
  },
  {
   "cell_type": "code",
   "execution_count": 60,
   "id": "450e9ef9",
   "metadata": {},
   "outputs": [
    {
     "data": {
      "text/html": [
       "<div>\n",
       "<style scoped>\n",
       "    .dataframe tbody tr th:only-of-type {\n",
       "        vertical-align: middle;\n",
       "    }\n",
       "\n",
       "    .dataframe tbody tr th {\n",
       "        vertical-align: top;\n",
       "    }\n",
       "\n",
       "    .dataframe thead th {\n",
       "        text-align: right;\n",
       "    }\n",
       "</style>\n",
       "<table border=\"1\" class=\"dataframe\">\n",
       "  <thead>\n",
       "    <tr style=\"text-align: right;\">\n",
       "      <th></th>\n",
       "      <th>0</th>\n",
       "      <th>1</th>\n",
       "    </tr>\n",
       "  </thead>\n",
       "  <tbody>\n",
       "    <tr>\n",
       "      <th>0</th>\n",
       "      <td>60</td>\n",
       "      <td>Refresh Rate</td>\n",
       "    </tr>\n",
       "    <tr>\n",
       "      <th>1</th>\n",
       "      <td>HD Ready 1366 x 768 Pixels</td>\n",
       "      <td>None</td>\n",
       "    </tr>\n",
       "    <tr>\n",
       "      <th>2</th>\n",
       "      <td>HD Ready 1366 x 768 Pixels</td>\n",
       "      <td>None</td>\n",
       "    </tr>\n",
       "    <tr>\n",
       "      <th>3</th>\n",
       "      <td>HD Ready 1366 x 768 Pixels</td>\n",
       "      <td>None</td>\n",
       "    </tr>\n",
       "    <tr>\n",
       "      <th>4</th>\n",
       "      <td>HD Ready 1366 x 768 Pixels</td>\n",
       "      <td>None</td>\n",
       "    </tr>\n",
       "    <tr>\n",
       "      <th>...</th>\n",
       "      <td>...</td>\n",
       "      <td>...</td>\n",
       "    </tr>\n",
       "    <tr>\n",
       "      <th>661</th>\n",
       "      <td>60</td>\n",
       "      <td>Refresh Rate</td>\n",
       "    </tr>\n",
       "    <tr>\n",
       "      <th>662</th>\n",
       "      <td>Ultra HD (4K) 3840 x 2160 Pixels</td>\n",
       "      <td>None</td>\n",
       "    </tr>\n",
       "    <tr>\n",
       "      <th>663</th>\n",
       "      <td>60</td>\n",
       "      <td>Refresh Rate</td>\n",
       "    </tr>\n",
       "    <tr>\n",
       "      <th>664</th>\n",
       "      <td>16 Speaker Output</td>\n",
       "      <td>None</td>\n",
       "    </tr>\n",
       "    <tr>\n",
       "      <th>665</th>\n",
       "      <td>50</td>\n",
       "      <td>Refresh Rate</td>\n",
       "    </tr>\n",
       "  </tbody>\n",
       "</table>\n",
       "<p>666 rows × 2 columns</p>\n",
       "</div>"
      ],
      "text/plain": [
       "                                    0              1\n",
       "0                                 60    Refresh Rate\n",
       "1          HD Ready 1366 x 768 Pixels           None\n",
       "2          HD Ready 1366 x 768 Pixels           None\n",
       "3          HD Ready 1366 x 768 Pixels           None\n",
       "4          HD Ready 1366 x 768 Pixels           None\n",
       "..                                ...            ...\n",
       "661                               60    Refresh Rate\n",
       "662  Ultra HD (4K) 3840 x 2160 Pixels           None\n",
       "663                               60    Refresh Rate\n",
       "664                 16 Speaker Output           None\n",
       "665                               50    Refresh Rate\n",
       "\n",
       "[666 rows x 2 columns]"
      ]
     },
     "execution_count": 60,
     "metadata": {},
     "output_type": "execute_result"
    }
   ],
   "source": [
    "df_f1"
   ]
  },
  {
   "cell_type": "code",
   "execution_count": 66,
   "id": "91e4617a",
   "metadata": {},
   "outputs": [
    {
     "data": {
      "text/plain": [
       "RangeIndex(start=0, stop=2, step=1)"
      ]
     },
     "execution_count": 66,
     "metadata": {},
     "output_type": "execute_result"
    }
   ],
   "source": []
  },
  {
   "cell_type": "code",
   "execution_count": 83,
   "id": "1a68e9da",
   "metadata": {
    "scrolled": true
   },
   "outputs": [
    {
     "data": {
      "text/plain": [
       "Ultra HD (4K) 3840 x 2160 Pixels    305\n",
       "HD Ready 1366 x 768 Pixels           98\n",
       "60                                   77\n",
       "Full HD 1920 x 1080 Pixels           77\n",
       "20 W Speaker Output                  10\n",
       "                                   ... \n",
       "Full HD 1366x777 Pixels               1\n",
       "Full HD 1366x779 Pixels               1\n",
       "Full HD 1920*1080 Pixels              1\n",
       "Full HD 1366x799 Pixels               1\n",
       "16 Speaker Output                     1\n",
       "Name: 0, Length: 62, dtype: int64"
      ]
     },
     "execution_count": 83,
     "metadata": {},
     "output_type": "execute_result"
    }
   ],
   "source": [
    "df_f1[0].value_counts()"
   ]
  },
  {
   "cell_type": "code",
   "execution_count": 84,
   "id": "17d9a13a",
   "metadata": {},
   "outputs": [
    {
     "data": {
      "text/plain": [
       "20 W Speaker Output        235\n",
       "24 W Speaker Output         61\n",
       "2 x HDMI | 2 x USB          44\n",
       "40 W Speaker Output         44\n",
       "30 W Speaker Output         42\n",
       "                          ... \n",
       "24W x 12 Speaker Output      1\n",
       "24W x 46 Speaker Output      1\n",
       "24W x 11 Speaker Output      1\n",
       "24W x 13 Speaker Output      1\n",
       "8 W x 2 Speaker Output       1\n",
       "Name: 0, Length: 85, dtype: int64"
      ]
     },
     "execution_count": 84,
     "metadata": {},
     "output_type": "execute_result"
    }
   ],
   "source": [
    "df_f2[0].value_counts()"
   ]
  },
  {
   "cell_type": "code",
   "execution_count": 41,
   "id": "b13f46c6",
   "metadata": {},
   "outputs": [
    {
     "data": {
      "text/plain": [
       "60                                                                                                     423\n",
       "50                                                                                                      53\n",
       "100                                                                                                     25\n",
       "120                                                                                                     23\n",
       "200                                                                                                     14\n",
       "3 x HDMI | 2 x USB                                                                                      13\n",
       "A+ Grade                                                                                                12\n",
       "A+                                                                                                      12\n",
       "1 Year Warranty                                                                                          6\n",
       "A+ Grade Panel                                                                                           5\n",
       "1 Year Warranty on Product                                                                               5\n",
       "2 x HDMI | 1 x USB                                                                                       5\n",
       "1 Year From Date of Purchase                                                                             4\n",
       "1 YEAR                                                                                                   4\n",
       "IPS                                                                                                      3\n",
       "1 Year LG India Comprehensive Warranty and additional 1 year Warranty is applicable on panel/module      3\n",
       "1 Year LG India Comprehensive Warranty and Additional 1 Year Warranty is Applicable on Panel/Module      3\n",
       "A+ Panel                                                                                                 3\n",
       "1 Year Manufacturer Warranty                                                                             3\n",
       "1 Year Comprehensive Warranty and 1 Year Additional Warranty on Panel                                    2\n",
       "2 x HDMI | 2 x USB                                                                                       2\n",
       "800                                                                                                      2\n",
       "4 x HDMI | 3 x USB                                                                                       2\n",
       "3 x HDMI | 1 x USB                                                                                       2\n",
       "LED                                                                                                      2\n",
       "A+ Grade Premium Dot Free Panel                                                                          2\n",
       "1 year sony Domestic Warranty                                                                            1\n",
       "A Grade Panel                                                                                            1\n",
       "1 Year Comprehensive Warranty                                                                            1\n",
       "COMES WITH  1YR  WARRANTY                                                                                1\n",
       "1 + 1 Year Warranty                                                                                      1\n",
       "Thin Bezel Design                                                                                        1\n",
       "1 Year Company Warranty                                                                                  1\n",
       "A Grade                                                                                                  1\n",
       "1 Year Standard Warranty Provided By The Manufacturer From Date Of Purchase                              1\n",
       "1 + 2 Year                                                                                               1\n",
       "2 Years                                                                                                  1\n",
       "LED Panel                                                                                                1\n",
       "1 x HDMI | 1 x USB                                                                                       1\n",
       "Zero Dots LED Panel                                                                                      1\n",
       "1 Year Maser India Warranty                                                                              1\n",
       "1 Year Standard Warranty and 1 Year Warranty on Panel from Samsung                                       1\n",
       "2 YEAR                                                                                                   1\n",
       "1 Year Warranty on Product + 1 Year Additional on Panel                                                  1\n",
       "A+ Grade IPS                                                                                             1\n",
       "1 Year on product                                                                                        1\n",
       "1 Year Comprehensive Warranty on Product and Additional 1 Year on Panel                                  1\n",
       "Zero Dot A+ Panel                                                                                        1\n",
       "VA                                                                                                       1\n",
       "2 Year Comprehensive Domestic Warranty                                                                   1\n",
       "A+Grade                                                                                                  1\n",
       "3 x HDMI | 3 x USB                                                                                       1\n",
       "1 Year Warranty on Product and Additional 1 Year for Panel                                               1\n",
       "3 Years Warranty on Product                                                                              1\n",
       "1 Year Candes Domestic Warranty                                                                          1\n",
       "1 Year Comprehensive Warranty and 1 Year Additional on Panel                                             1\n",
       "1 Year Manufaturer Warranty                                                                              1\n",
       "1 year comprehensive warranty                                                                            1\n",
       "3 Years Warranty                                                                                         1\n",
       "Name: 0, dtype: int64"
      ]
     },
     "execution_count": 41,
     "metadata": {},
     "output_type": "execute_result"
    }
   ],
   "source": [
    "df_f3[0].value_counts()"
   ]
  },
  {
   "cell_type": "code",
   "execution_count": null,
   "id": "58192ddf",
   "metadata": {},
   "outputs": [],
   "source": []
  },
  {
   "cell_type": "code",
   "execution_count": null,
   "id": "3d220bd6",
   "metadata": {},
   "outputs": [],
   "source": []
  },
  {
   "cell_type": "code",
   "execution_count": 67,
   "id": "04ea8fa0",
   "metadata": {},
   "outputs": [
    {
     "data": {
      "text/html": [
       "<div>\n",
       "<style scoped>\n",
       "    .dataframe tbody tr th:only-of-type {\n",
       "        vertical-align: middle;\n",
       "    }\n",
       "\n",
       "    .dataframe tbody tr th {\n",
       "        vertical-align: top;\n",
       "    }\n",
       "\n",
       "    .dataframe thead th {\n",
       "        text-align: right;\n",
       "    }\n",
       "</style>\n",
       "<table border=\"1\" class=\"dataframe\">\n",
       "  <thead>\n",
       "    <tr style=\"text-align: right;\">\n",
       "      <th></th>\n",
       "      <th>Product_Name</th>\n",
       "      <th>Stars</th>\n",
       "      <th>Ratings</th>\n",
       "      <th>Reviews</th>\n",
       "      <th>current_price</th>\n",
       "      <th>MRP</th>\n",
       "      <th>channel</th>\n",
       "      <th>Operating_system</th>\n",
       "      <th>Picture_quality</th>\n",
       "      <th>Speaker</th>\n",
       "      <th>Frequency</th>\n",
       "    </tr>\n",
       "  </thead>\n",
       "  <tbody>\n",
       "    <tr>\n",
       "      <th>0</th>\n",
       "      <td>Croma</td>\n",
       "      <td>4.2</td>\n",
       "      <td>1773</td>\n",
       "      <td>217</td>\n",
       "      <td>7990</td>\n",
       "      <td>20000</td>\n",
       "      <td>HD Ready 1366 x 768 Pixels</td>\n",
       "      <td>20 Speaker Output</td>\n",
       "      <td>60 Hz Refresh Rate</td>\n",
       "      <td>2 x HDMI | 2 x USB</td>\n",
       "      <td>1 Year Warranty</td>\n",
       "    </tr>\n",
       "    <tr>\n",
       "      <th>1</th>\n",
       "      <td>Adsun</td>\n",
       "      <td>3.8</td>\n",
       "      <td>6742</td>\n",
       "      <td>930</td>\n",
       "      <td>8699</td>\n",
       "      <td>21999</td>\n",
       "      <td>Netflix|Disney+Hotstar|Youtube</td>\n",
       "      <td>Operating System: Android Based</td>\n",
       "      <td>HD Ready 1366 x 768 Pixels</td>\n",
       "      <td>20 W Speaker Output</td>\n",
       "      <td>60 Hz Refresh Rate</td>\n",
       "    </tr>\n",
       "  </tbody>\n",
       "</table>\n",
       "</div>"
      ],
      "text/plain": [
       "  Product_Name  Stars  Ratings  Reviews  current_price    MRP  \\\n",
       "0        Croma    4.2     1773      217           7990  20000   \n",
       "1        Adsun    3.8     6742      930           8699  21999   \n",
       "\n",
       "                          channel                 Operating_system  \\\n",
       "0      HD Ready 1366 x 768 Pixels                20 Speaker Output   \n",
       "1  Netflix|Disney+Hotstar|Youtube  Operating System: Android Based   \n",
       "\n",
       "              Picture_quality              Speaker           Frequency  \n",
       "0          60 Hz Refresh Rate   2 x HDMI | 2 x USB     1 Year Warranty  \n",
       "1  HD Ready 1366 x 768 Pixels  20 W Speaker Output  60 Hz Refresh Rate  "
      ]
     },
     "execution_count": 67,
     "metadata": {},
     "output_type": "execute_result"
    }
   ],
   "source": [
    "df = pd.read_csv(\"TV.csv\")\n",
    "df.head(2)"
   ]
  },
  {
   "cell_type": "code",
   "execution_count": 70,
   "id": "3b1cb77d",
   "metadata": {},
   "outputs": [
    {
     "data": {
      "text/html": [
       "<div>\n",
       "<style scoped>\n",
       "    .dataframe tbody tr th:only-of-type {\n",
       "        vertical-align: middle;\n",
       "    }\n",
       "\n",
       "    .dataframe tbody tr th {\n",
       "        vertical-align: top;\n",
       "    }\n",
       "\n",
       "    .dataframe thead th {\n",
       "        text-align: right;\n",
       "    }\n",
       "</style>\n",
       "<table border=\"1\" class=\"dataframe\">\n",
       "  <thead>\n",
       "    <tr style=\"text-align: right;\">\n",
       "      <th></th>\n",
       "      <th>channel</th>\n",
       "      <th>Operating_system</th>\n",
       "      <th>Picture_quality</th>\n",
       "    </tr>\n",
       "  </thead>\n",
       "  <tbody>\n",
       "    <tr>\n",
       "      <th>0</th>\n",
       "      <td>HD Ready 1366 x 768 Pixels</td>\n",
       "      <td>20 Speaker Output</td>\n",
       "      <td>60 Hz Refresh Rate</td>\n",
       "    </tr>\n",
       "    <tr>\n",
       "      <th>1</th>\n",
       "      <td>Netflix|Disney+Hotstar|Youtube</td>\n",
       "      <td>Operating System: Android Based</td>\n",
       "      <td>HD Ready 1366 x 768 Pixels</td>\n",
       "    </tr>\n",
       "  </tbody>\n",
       "</table>\n",
       "</div>"
      ],
      "text/plain": [
       "                          channel                 Operating_system  \\\n",
       "0      HD Ready 1366 x 768 Pixels                20 Speaker Output   \n",
       "1  Netflix|Disney+Hotstar|Youtube  Operating System: Android Based   \n",
       "\n",
       "              Picture_quality  \n",
       "0          60 Hz Refresh Rate  \n",
       "1  HD Ready 1366 x 768 Pixels  "
      ]
     },
     "execution_count": 70,
     "metadata": {},
     "output_type": "execute_result"
    }
   ],
   "source": [
    "df_sub2 = df.iloc[:, 6:9]\n",
    "df_sub2.head(2)"
   ]
  },
  {
   "cell_type": "code",
   "execution_count": 71,
   "id": "061249f7",
   "metadata": {},
   "outputs": [
    {
     "ename": "TypeError",
     "evalue": "unsupported operand type(s) for +: 'StringMethods' and 'StringMethods'",
     "output_type": "error",
     "traceback": [
      "\u001b[1;31m---------------------------------------------------------------------------\u001b[0m",
      "\u001b[1;31mTypeError\u001b[0m                                 Traceback (most recent call last)",
      "Input \u001b[1;32mIn [71]\u001b[0m, in \u001b[0;36m<cell line: 1>\u001b[1;34m()\u001b[0m\n\u001b[1;32m----> 1\u001b[0m df_sub2[\u001b[38;5;124m\"\u001b[39m\u001b[38;5;124mpic\u001b[39m\u001b[38;5;124m\"\u001b[39m] \u001b[38;5;241m=\u001b[39m \u001b[43mdf_sub2\u001b[49m\u001b[43m[\u001b[49m\u001b[38;5;124;43m\"\u001b[39;49m\u001b[38;5;124;43mchannel\u001b[39;49m\u001b[38;5;124;43m\"\u001b[39;49m\u001b[43m]\u001b[49m\u001b[38;5;241;43m.\u001b[39;49m\u001b[43mstr\u001b[49m\u001b[43m \u001b[49m\u001b[38;5;241;43m+\u001b[39;49m\u001b[43m \u001b[49m\u001b[43mdf_sub2\u001b[49m\u001b[43m[\u001b[49m\u001b[38;5;124;43m\"\u001b[39;49m\u001b[38;5;124;43mOperating_system\u001b[39;49m\u001b[38;5;124;43m\"\u001b[39;49m\u001b[43m]\u001b[49m\u001b[38;5;241;43m.\u001b[39;49m\u001b[43mstr\u001b[49m \u001b[38;5;241m+\u001b[39m df_sub2[\u001b[38;5;124m\"\u001b[39m\u001b[38;5;124mPicture_quality\u001b[39m\u001b[38;5;124m\"\u001b[39m]\u001b[38;5;241m.\u001b[39mstr\n",
      "\u001b[1;31mTypeError\u001b[0m: unsupported operand type(s) for +: 'StringMethods' and 'StringMethods'"
     ]
    }
   ],
   "source": [
    "df_sub2[\"pic\"] = df_sub2[\"channel\"].str + df_sub2[\"Operating_system\"].str + df_sub2[\"Picture_quality\"].str"
   ]
  },
  {
   "cell_type": "code",
   "execution_count": null,
   "id": "5b9e61d1",
   "metadata": {},
   "outputs": [],
   "source": []
  },
  {
   "cell_type": "code",
   "execution_count": null,
   "id": "afd56305",
   "metadata": {},
   "outputs": [],
   "source": []
  },
  {
   "cell_type": "code",
   "execution_count": null,
   "id": "7379b8c1",
   "metadata": {},
   "outputs": [],
   "source": []
  },
  {
   "cell_type": "code",
   "execution_count": 72,
   "id": "49513a25",
   "metadata": {},
   "outputs": [],
   "source": [
    "# Q1 Answer"
   ]
  },
  {
   "cell_type": "code",
   "execution_count": 75,
   "id": "c80b01e8",
   "metadata": {},
   "outputs": [
    {
     "data": {
      "text/plain": [
       "1      60 Hz Refresh Rate\n",
       "2      50 Hz Refresh Rate\n",
       "15    120 Hz Refresh Rate\n",
       "22    100 Hz Refresh Rate\n",
       "24    800 Hz Refresh Rate\n",
       "25    200 Hz Refresh Rate\n",
       "dtype: object"
      ]
     },
     "execution_count": 75,
     "metadata": {},
     "output_type": "execute_result"
    }
   ],
   "source": [
    "ser_u = pd.Series(df[\"Frequency\"].unique())\n",
    "ser_u[ser_u.str.contains(\"Hz\")]"
   ]
  },
  {
   "cell_type": "code",
   "execution_count": 76,
   "id": "a90cf0ad",
   "metadata": {},
   "outputs": [
    {
     "data": {
      "text/plain": [
       "0                                    60 Hz Refresh Rate\n",
       "15                                  120 Hz Refresh Rate\n",
       "16                                  100 Hz Refresh Rate\n",
       "18                                  200 Hz Refresh Rate\n",
       "20                                   58 Hz Refresh Rate\n",
       "22                                   50 Hz Refresh Rate\n",
       "48    60 Hz Refresh Rate for a blur-free picture qua...\n",
       "61                                  300 Hz Refresh Rate\n",
       "dtype: object"
      ]
     },
     "execution_count": 76,
     "metadata": {},
     "output_type": "execute_result"
    }
   ],
   "source": [
    "ser_u = pd.Series(df[\"Picture_quality\"].unique())\n",
    "ser_u[ser_u.str.contains(\"Hz\")]"
   ]
  },
  {
   "cell_type": "code",
   "execution_count": 77,
   "id": "75797d38",
   "metadata": {},
   "outputs": [
    {
     "data": {
      "text/plain": [
       "19     60 Hz Refresh Rate\n",
       "31     50 Hz Refresh Rate\n",
       "41    200 Hz Refresh Rate\n",
       "46    120 Hz Refresh Rate\n",
       "47    100 Hz Refresh Rate\n",
       "dtype: object"
      ]
     },
     "execution_count": 77,
     "metadata": {},
     "output_type": "execute_result"
    }
   ],
   "source": [
    "ser_u = pd.Series(df[\"Speaker\"].unique())\n",
    "ser_u[ser_u.str.contains(\"Hz\")]"
   ]
  },
  {
   "cell_type": "code",
   "execution_count": 78,
   "id": "f3658b34",
   "metadata": {},
   "outputs": [
    {
     "data": {
      "text/html": [
       "<div>\n",
       "<style scoped>\n",
       "    .dataframe tbody tr th:only-of-type {\n",
       "        vertical-align: middle;\n",
       "    }\n",
       "\n",
       "    .dataframe tbody tr th {\n",
       "        vertical-align: top;\n",
       "    }\n",
       "\n",
       "    .dataframe thead th {\n",
       "        text-align: right;\n",
       "    }\n",
       "</style>\n",
       "<table border=\"1\" class=\"dataframe\">\n",
       "  <thead>\n",
       "    <tr style=\"text-align: right;\">\n",
       "      <th></th>\n",
       "      <th>Frequency</th>\n",
       "      <th>Picture_quality</th>\n",
       "      <th>Speaker</th>\n",
       "    </tr>\n",
       "  </thead>\n",
       "  <tbody>\n",
       "    <tr>\n",
       "      <th>0</th>\n",
       "      <td>1 Year Warranty</td>\n",
       "      <td>60 Hz Refresh Rate</td>\n",
       "      <td>2 x HDMI | 2 x USB</td>\n",
       "    </tr>\n",
       "    <tr>\n",
       "      <th>1</th>\n",
       "      <td>60 Hz Refresh Rate</td>\n",
       "      <td>HD Ready 1366 x 768 Pixels</td>\n",
       "      <td>20 W Speaker Output</td>\n",
       "    </tr>\n",
       "  </tbody>\n",
       "</table>\n",
       "</div>"
      ],
      "text/plain": [
       "            Frequency             Picture_quality              Speaker\n",
       "0     1 Year Warranty          60 Hz Refresh Rate   2 x HDMI | 2 x USB\n",
       "1  60 Hz Refresh Rate  HD Ready 1366 x 768 Pixels  20 W Speaker Output"
      ]
     },
     "execution_count": 78,
     "metadata": {},
     "output_type": "execute_result"
    }
   ],
   "source": [
    "df_q1 = df[[\"Frequency\", \"Picture_quality\", \"Speaker\"]].copy()\n",
    "df_q1.head(2)"
   ]
  },
  {
   "cell_type": "code",
   "execution_count": 80,
   "id": "0c0af4c0",
   "metadata": {},
   "outputs": [
    {
     "data": {
      "text/html": [
       "<div>\n",
       "<style scoped>\n",
       "    .dataframe tbody tr th:only-of-type {\n",
       "        vertical-align: middle;\n",
       "    }\n",
       "\n",
       "    .dataframe tbody tr th {\n",
       "        vertical-align: top;\n",
       "    }\n",
       "\n",
       "    .dataframe thead th {\n",
       "        text-align: right;\n",
       "    }\n",
       "</style>\n",
       "<table border=\"1\" class=\"dataframe\">\n",
       "  <thead>\n",
       "    <tr style=\"text-align: right;\">\n",
       "      <th></th>\n",
       "      <th>Frequency</th>\n",
       "      <th>Picture_quality</th>\n",
       "      <th>Speaker</th>\n",
       "      <th>Hz_1</th>\n",
       "      <th>Hz_2</th>\n",
       "      <th>Hz_3</th>\n",
       "    </tr>\n",
       "  </thead>\n",
       "  <tbody>\n",
       "    <tr>\n",
       "      <th>0</th>\n",
       "      <td>1 Year Warranty</td>\n",
       "      <td>60 Hz Refresh Rate</td>\n",
       "      <td>2 x HDMI | 2 x USB</td>\n",
       "      <td>0</td>\n",
       "      <td>1</td>\n",
       "      <td>0</td>\n",
       "    </tr>\n",
       "    <tr>\n",
       "      <th>1</th>\n",
       "      <td>60 Hz Refresh Rate</td>\n",
       "      <td>HD Ready 1366 x 768 Pixels</td>\n",
       "      <td>20 W Speaker Output</td>\n",
       "      <td>1</td>\n",
       "      <td>0</td>\n",
       "      <td>0</td>\n",
       "    </tr>\n",
       "  </tbody>\n",
       "</table>\n",
       "</div>"
      ],
      "text/plain": [
       "            Frequency             Picture_quality              Speaker  Hz_1  \\\n",
       "0     1 Year Warranty          60 Hz Refresh Rate   2 x HDMI | 2 x USB     0   \n",
       "1  60 Hz Refresh Rate  HD Ready 1366 x 768 Pixels  20 W Speaker Output     1   \n",
       "\n",
       "   Hz_2  Hz_3  \n",
       "0     1     0  \n",
       "1     0     0  "
      ]
     },
     "execution_count": 80,
     "metadata": {},
     "output_type": "execute_result"
    }
   ],
   "source": [
    "df_q1[\"Hz_1\"] = df_q1[\"Frequency\"].str.contains(\"60 Hz\") + 0\n",
    "df_q1[\"Hz_2\"] = df_q1[\"Picture_quality\"].str.contains(\"60 Hz\") + 0\n",
    "df_q1[\"Hz_3\"] = df_q1[\"Speaker\"].str.contains(\"60 Hz\") + 0\n",
    "df_q1.head(2)"
   ]
  },
  {
   "cell_type": "code",
   "execution_count": 81,
   "id": "232a5782",
   "metadata": {},
   "outputs": [
    {
     "data": {
      "text/html": [
       "<div>\n",
       "<style scoped>\n",
       "    .dataframe tbody tr th:only-of-type {\n",
       "        vertical-align: middle;\n",
       "    }\n",
       "\n",
       "    .dataframe tbody tr th {\n",
       "        vertical-align: top;\n",
       "    }\n",
       "\n",
       "    .dataframe thead th {\n",
       "        text-align: right;\n",
       "    }\n",
       "</style>\n",
       "<table border=\"1\" class=\"dataframe\">\n",
       "  <thead>\n",
       "    <tr style=\"text-align: right;\">\n",
       "      <th></th>\n",
       "      <th>Frequency</th>\n",
       "      <th>Picture_quality</th>\n",
       "      <th>Speaker</th>\n",
       "      <th>Hz_1</th>\n",
       "      <th>Hz_2</th>\n",
       "      <th>Hz_3</th>\n",
       "      <th>Hz</th>\n",
       "    </tr>\n",
       "  </thead>\n",
       "  <tbody>\n",
       "    <tr>\n",
       "      <th>0</th>\n",
       "      <td>1 Year Warranty</td>\n",
       "      <td>60 Hz Refresh Rate</td>\n",
       "      <td>2 x HDMI | 2 x USB</td>\n",
       "      <td>0</td>\n",
       "      <td>1</td>\n",
       "      <td>0</td>\n",
       "      <td>1</td>\n",
       "    </tr>\n",
       "    <tr>\n",
       "      <th>1</th>\n",
       "      <td>60 Hz Refresh Rate</td>\n",
       "      <td>HD Ready 1366 x 768 Pixels</td>\n",
       "      <td>20 W Speaker Output</td>\n",
       "      <td>1</td>\n",
       "      <td>0</td>\n",
       "      <td>0</td>\n",
       "      <td>1</td>\n",
       "    </tr>\n",
       "  </tbody>\n",
       "</table>\n",
       "</div>"
      ],
      "text/plain": [
       "            Frequency             Picture_quality              Speaker  Hz_1  \\\n",
       "0     1 Year Warranty          60 Hz Refresh Rate   2 x HDMI | 2 x USB     0   \n",
       "1  60 Hz Refresh Rate  HD Ready 1366 x 768 Pixels  20 W Speaker Output     1   \n",
       "\n",
       "   Hz_2  Hz_3  Hz  \n",
       "0     1     0   1  \n",
       "1     0     0   1  "
      ]
     },
     "execution_count": 81,
     "metadata": {},
     "output_type": "execute_result"
    }
   ],
   "source": [
    "df_q1[\"Hz\"] = df_q1[\"Hz_1\"] + df_q1[\"Hz_2\"] + df_q1[\"Hz_3\"]\n",
    "df_q1.head(2)"
   ]
  },
  {
   "cell_type": "code",
   "execution_count": 82,
   "id": "141f9603",
   "metadata": {},
   "outputs": [
    {
     "data": {
      "text/plain": [
       "510"
      ]
     },
     "execution_count": 82,
     "metadata": {},
     "output_type": "execute_result"
    }
   ],
   "source": [
    "df_q1[\"Hz\"].sum()"
   ]
  },
  {
   "cell_type": "code",
   "execution_count": 86,
   "id": "806e0cdb",
   "metadata": {},
   "outputs": [
    {
     "data": {
      "text/html": [
       "<div>\n",
       "<style scoped>\n",
       "    .dataframe tbody tr th:only-of-type {\n",
       "        vertical-align: middle;\n",
       "    }\n",
       "\n",
       "    .dataframe tbody tr th {\n",
       "        vertical-align: top;\n",
       "    }\n",
       "\n",
       "    .dataframe thead th {\n",
       "        text-align: right;\n",
       "    }\n",
       "</style>\n",
       "<table border=\"1\" class=\"dataframe\">\n",
       "  <thead>\n",
       "    <tr style=\"text-align: right;\">\n",
       "      <th></th>\n",
       "      <th>Frequency</th>\n",
       "      <th>Picture_quality</th>\n",
       "      <th>Speaker</th>\n",
       "      <th>Hz_1</th>\n",
       "      <th>Hz_2</th>\n",
       "      <th>Hz_3</th>\n",
       "      <th>Hz</th>\n",
       "      <th>Hz_cnt</th>\n",
       "    </tr>\n",
       "  </thead>\n",
       "  <tbody>\n",
       "    <tr>\n",
       "      <th>0</th>\n",
       "      <td>1 Year Warranty</td>\n",
       "      <td>60 Hz Refresh Rate</td>\n",
       "      <td>2 x HDMI | 2 x USB</td>\n",
       "      <td>0</td>\n",
       "      <td>1</td>\n",
       "      <td>0</td>\n",
       "      <td>1</td>\n",
       "      <td>1</td>\n",
       "    </tr>\n",
       "    <tr>\n",
       "      <th>1</th>\n",
       "      <td>60 Hz Refresh Rate</td>\n",
       "      <td>HD Ready 1366 x 768 Pixels</td>\n",
       "      <td>20 W Speaker Output</td>\n",
       "      <td>1</td>\n",
       "      <td>0</td>\n",
       "      <td>0</td>\n",
       "      <td>1</td>\n",
       "      <td>1</td>\n",
       "    </tr>\n",
       "  </tbody>\n",
       "</table>\n",
       "</div>"
      ],
      "text/plain": [
       "            Frequency             Picture_quality              Speaker  Hz_1  \\\n",
       "0     1 Year Warranty          60 Hz Refresh Rate   2 x HDMI | 2 x USB     0   \n",
       "1  60 Hz Refresh Rate  HD Ready 1366 x 768 Pixels  20 W Speaker Output     1   \n",
       "\n",
       "   Hz_2  Hz_3  Hz  Hz_cnt  \n",
       "0     1     0   1       1  \n",
       "1     0     0   1       1  "
      ]
     },
     "execution_count": 86,
     "metadata": {},
     "output_type": "execute_result"
    }
   ],
   "source": [
    "df_q1[\"Hz_cnt\"] = df_q1.loc[:, \"Hz_1\":\"Hz_3\"].sum(axis = 1)\n",
    "df_q1.head(2)"
   ]
  },
  {
   "cell_type": "code",
   "execution_count": 87,
   "id": "aeef8d5b",
   "metadata": {},
   "outputs": [
    {
     "data": {
      "text/plain": [
       "1    510\n",
       "0    156\n",
       "Name: Hz_cnt, dtype: int64"
      ]
     },
     "execution_count": 87,
     "metadata": {},
     "output_type": "execute_result"
    }
   ],
   "source": [
    "df_q1[\"Hz_cnt\"].value_counts()"
   ]
  },
  {
   "cell_type": "code",
   "execution_count": null,
   "id": "f9113feb",
   "metadata": {},
   "outputs": [],
   "source": []
  },
  {
   "cell_type": "code",
   "execution_count": 89,
   "id": "90bad913",
   "metadata": {},
   "outputs": [],
   "source": [
    "# Q2 Answer"
   ]
  },
  {
   "cell_type": "code",
   "execution_count": 102,
   "id": "40d7e0ae",
   "metadata": {},
   "outputs": [
    {
     "data": {
      "text/html": [
       "<div>\n",
       "<style scoped>\n",
       "    .dataframe tbody tr th:only-of-type {\n",
       "        vertical-align: middle;\n",
       "    }\n",
       "\n",
       "    .dataframe tbody tr th {\n",
       "        vertical-align: top;\n",
       "    }\n",
       "\n",
       "    .dataframe thead th {\n",
       "        text-align: right;\n",
       "    }\n",
       "</style>\n",
       "<table border=\"1\" class=\"dataframe\">\n",
       "  <thead>\n",
       "    <tr style=\"text-align: right;\">\n",
       "      <th></th>\n",
       "      <th>Stars</th>\n",
       "      <th>Operating_system</th>\n",
       "      <th>channel</th>\n",
       "      <th>Picture_quality</th>\n",
       "    </tr>\n",
       "  </thead>\n",
       "  <tbody>\n",
       "    <tr>\n",
       "      <th>0</th>\n",
       "      <td>4.2</td>\n",
       "      <td>20 Speaker Output</td>\n",
       "      <td>HD Ready 1366 x 768 Pixels</td>\n",
       "      <td>60 Hz Refresh Rate</td>\n",
       "    </tr>\n",
       "    <tr>\n",
       "      <th>1</th>\n",
       "      <td>3.8</td>\n",
       "      <td>Operating System: Android Based</td>\n",
       "      <td>Netflix|Disney+Hotstar|Youtube</td>\n",
       "      <td>HD Ready 1366 x 768 Pixels</td>\n",
       "    </tr>\n",
       "  </tbody>\n",
       "</table>\n",
       "</div>"
      ],
      "text/plain": [
       "   Stars                 Operating_system                         channel  \\\n",
       "0    4.2                20 Speaker Output      HD Ready 1366 x 768 Pixels   \n",
       "1    3.8  Operating System: Android Based  Netflix|Disney+Hotstar|Youtube   \n",
       "\n",
       "              Picture_quality  \n",
       "0          60 Hz Refresh Rate  \n",
       "1  HD Ready 1366 x 768 Pixels  "
      ]
     },
     "execution_count": 102,
     "metadata": {},
     "output_type": "execute_result"
    }
   ],
   "source": [
    "df_q2 = df[[\"Stars\", \"Operating_system\", \"channel\", \"Picture_quality\"]].copy()\n",
    "df_q2.head(2)"
   ]
  },
  {
   "cell_type": "code",
   "execution_count": 93,
   "id": "c910176e",
   "metadata": {},
   "outputs": [
    {
     "data": {
      "text/plain": [
       "14      Ultra HD (4K) 3840x2160 Pixels\n",
       "22    Ultra HD (4K) 3840 x 2160 Pixels\n",
       "30    Ultra HD (4K) 3840 * 2160 Pixels\n",
       "dtype: object"
      ]
     },
     "execution_count": 93,
     "metadata": {},
     "output_type": "execute_result"
    }
   ],
   "source": [
    "ser_u = pd.Series(df_q2[\"Operating_system\"].unique())\n",
    "ser_u[ser_u.str.contains(\"4K|8K\")]"
   ]
  },
  {
   "cell_type": "code",
   "execution_count": 94,
   "id": "bdb99e26",
   "metadata": {},
   "outputs": [
    {
     "data": {
      "text/plain": [
       "12               Ultra HD (4K) 3840 x 2160 Pixels\n",
       "15              Ultra HD (4K) ?3840 x 2160 Pixels\n",
       "19                 Ultra HD (4K) 3840*2160 Pixels\n",
       "22    Ultra HD (4K) 3840 x 2160 - Ultra HD Pixels\n",
       "23     Ultra HD (4K) 4K QLED (3840 x 2160) Pixels\n",
       "25               Ultra HD (4K) 3840 * 2160 Pixels\n",
       "34               Ultra HD (4K) 1920 x 1080 Pixels\n",
       "36        Ultra HD (4K) 3840 x 2160 pixels Pixels\n",
       "dtype: object"
      ]
     },
     "execution_count": 94,
     "metadata": {},
     "output_type": "execute_result"
    }
   ],
   "source": [
    "ser_u = pd.Series(df_q2[\"channel\"].unique())\n",
    "ser_u[ser_u.str.contains(\"4K|8K\")]"
   ]
  },
  {
   "cell_type": "code",
   "execution_count": 95,
   "id": "895cf011",
   "metadata": {},
   "outputs": [
    {
     "data": {
      "text/plain": [
       "2                      Ultra HD (4K) 3840 x 2160 Pixels\n",
       "4     Ultra HD (4K) Crystal 4K FE UHD (3840 x 2160) ...\n",
       "7                        Ultra HD (4K) 3840×2160 Pixels\n",
       "9                      Ultra HD (4K) 3860 x 2160 Pixels\n",
       "10                       Ultra HD (4K) 3840X2160 Pixels\n",
       "12                     Ultra HD (4K) 3840 × 2160 Pixels\n",
       "13                       Ultra HD (4K) 3840*2160 Pixels\n",
       "14                       Ultra HD (4K) 3840x2160 Pixels\n",
       "28                     Ultra HD (8K) 7680 x 4320 Pixels\n",
       "34                     Ultra HD (4K) 3840 � 2160 Pixels\n",
       "dtype: object"
      ]
     },
     "execution_count": 95,
     "metadata": {},
     "output_type": "execute_result"
    }
   ],
   "source": [
    "ser_u = pd.Series(df_q2[\"Picture_quality\"].unique())\n",
    "ser_u[ser_u.str.contains(\"4K|8K\")]"
   ]
  },
  {
   "cell_type": "code",
   "execution_count": 103,
   "id": "c1bc6e3f",
   "metadata": {},
   "outputs": [],
   "source": [
    "df_q2[\"4K_1\"] = df_q2[\"Operating_system\"].str.contains(\"4K\") + 0\n",
    "df_q2[\"4K_2\"] = df_q2[\"channel\"].str.contains(\"4K\") + 0\n",
    "df_q2[\"4K_3\"] = df_q2[\"Picture_quality\"].str.contains(\"4K\") + 0\n",
    "df_q2[\"4K\"] = df_q2.loc[:, \"4K_1\":].sum(axis = 1)"
   ]
  },
  {
   "cell_type": "code",
   "execution_count": 104,
   "id": "28867f87",
   "metadata": {},
   "outputs": [
    {
     "data": {
      "text/html": [
       "<div>\n",
       "<style scoped>\n",
       "    .dataframe tbody tr th:only-of-type {\n",
       "        vertical-align: middle;\n",
       "    }\n",
       "\n",
       "    .dataframe tbody tr th {\n",
       "        vertical-align: top;\n",
       "    }\n",
       "\n",
       "    .dataframe thead th {\n",
       "        text-align: right;\n",
       "    }\n",
       "</style>\n",
       "<table border=\"1\" class=\"dataframe\">\n",
       "  <thead>\n",
       "    <tr style=\"text-align: right;\">\n",
       "      <th></th>\n",
       "      <th>Stars</th>\n",
       "      <th>Operating_system</th>\n",
       "      <th>channel</th>\n",
       "      <th>Picture_quality</th>\n",
       "      <th>4K_1</th>\n",
       "      <th>4K_2</th>\n",
       "      <th>4K_3</th>\n",
       "      <th>4K</th>\n",
       "      <th>8K_1</th>\n",
       "      <th>8K_2</th>\n",
       "      <th>8K_3</th>\n",
       "      <th>8K</th>\n",
       "    </tr>\n",
       "  </thead>\n",
       "  <tbody>\n",
       "    <tr>\n",
       "      <th>0</th>\n",
       "      <td>4.2</td>\n",
       "      <td>20 Speaker Output</td>\n",
       "      <td>HD Ready 1366 x 768 Pixels</td>\n",
       "      <td>60 Hz Refresh Rate</td>\n",
       "      <td>0</td>\n",
       "      <td>0</td>\n",
       "      <td>0</td>\n",
       "      <td>0</td>\n",
       "      <td>0</td>\n",
       "      <td>0</td>\n",
       "      <td>0</td>\n",
       "      <td>0</td>\n",
       "    </tr>\n",
       "    <tr>\n",
       "      <th>1</th>\n",
       "      <td>3.8</td>\n",
       "      <td>Operating System: Android Based</td>\n",
       "      <td>Netflix|Disney+Hotstar|Youtube</td>\n",
       "      <td>HD Ready 1366 x 768 Pixels</td>\n",
       "      <td>0</td>\n",
       "      <td>0</td>\n",
       "      <td>0</td>\n",
       "      <td>0</td>\n",
       "      <td>0</td>\n",
       "      <td>0</td>\n",
       "      <td>0</td>\n",
       "      <td>0</td>\n",
       "    </tr>\n",
       "    <tr>\n",
       "      <th>2</th>\n",
       "      <td>4.4</td>\n",
       "      <td>Operating System: WebOS</td>\n",
       "      <td>Netflix|Prime Video|Disney+Hotstar|Youtube</td>\n",
       "      <td>HD Ready 1366 x 768 Pixels</td>\n",
       "      <td>0</td>\n",
       "      <td>0</td>\n",
       "      <td>0</td>\n",
       "      <td>0</td>\n",
       "      <td>0</td>\n",
       "      <td>0</td>\n",
       "      <td>0</td>\n",
       "      <td>0</td>\n",
       "    </tr>\n",
       "    <tr>\n",
       "      <th>3</th>\n",
       "      <td>4.3</td>\n",
       "      <td>Operating System: Android</td>\n",
       "      <td>Netflix|Prime Video|Disney+Hotstar|Youtube</td>\n",
       "      <td>HD Ready 1366 x 768 Pixels</td>\n",
       "      <td>0</td>\n",
       "      <td>0</td>\n",
       "      <td>0</td>\n",
       "      <td>0</td>\n",
       "      <td>0</td>\n",
       "      <td>0</td>\n",
       "      <td>0</td>\n",
       "      <td>0</td>\n",
       "    </tr>\n",
       "    <tr>\n",
       "      <th>4</th>\n",
       "      <td>4.3</td>\n",
       "      <td>Operating System: Android</td>\n",
       "      <td>Netflix|Prime Video|Disney+Hotstar|Youtube</td>\n",
       "      <td>HD Ready 1366 x 768 Pixels</td>\n",
       "      <td>0</td>\n",
       "      <td>0</td>\n",
       "      <td>0</td>\n",
       "      <td>0</td>\n",
       "      <td>0</td>\n",
       "      <td>0</td>\n",
       "      <td>0</td>\n",
       "      <td>0</td>\n",
       "    </tr>\n",
       "    <tr>\n",
       "      <th>5</th>\n",
       "      <td>4.4</td>\n",
       "      <td>Operating System: Tizen</td>\n",
       "      <td>Netflix|Disney+Hotstar|Youtube</td>\n",
       "      <td>HD Ready 1366 x 768 Pixels</td>\n",
       "      <td>0</td>\n",
       "      <td>0</td>\n",
       "      <td>0</td>\n",
       "      <td>0</td>\n",
       "      <td>0</td>\n",
       "      <td>0</td>\n",
       "      <td>0</td>\n",
       "      <td>0</td>\n",
       "    </tr>\n",
       "    <tr>\n",
       "      <th>6</th>\n",
       "      <td>4.3</td>\n",
       "      <td>Operating System: Android</td>\n",
       "      <td>Netflix|Prime Video|Disney+Hotstar|Youtube</td>\n",
       "      <td>HD Ready 1366 x 768 Pixels</td>\n",
       "      <td>0</td>\n",
       "      <td>0</td>\n",
       "      <td>0</td>\n",
       "      <td>0</td>\n",
       "      <td>0</td>\n",
       "      <td>0</td>\n",
       "      <td>0</td>\n",
       "      <td>0</td>\n",
       "    </tr>\n",
       "    <tr>\n",
       "      <th>7</th>\n",
       "      <td>4.2</td>\n",
       "      <td>Operating System: Android</td>\n",
       "      <td>Netflix|Prime Video|Disney+Hotstar|Youtube</td>\n",
       "      <td>HD Ready 1366 x 768 Pixels</td>\n",
       "      <td>0</td>\n",
       "      <td>0</td>\n",
       "      <td>0</td>\n",
       "      <td>0</td>\n",
       "      <td>0</td>\n",
       "      <td>0</td>\n",
       "      <td>0</td>\n",
       "      <td>0</td>\n",
       "    </tr>\n",
       "    <tr>\n",
       "      <th>8</th>\n",
       "      <td>4.4</td>\n",
       "      <td>Operating System: WebOS</td>\n",
       "      <td>Netflix|Prime Video|Disney+Hotstar|Youtube</td>\n",
       "      <td>Ultra HD (4K) 3840 x 2160 Pixels</td>\n",
       "      <td>0</td>\n",
       "      <td>0</td>\n",
       "      <td>1</td>\n",
       "      <td>1</td>\n",
       "      <td>0</td>\n",
       "      <td>0</td>\n",
       "      <td>0</td>\n",
       "      <td>0</td>\n",
       "    </tr>\n",
       "    <tr>\n",
       "      <th>9</th>\n",
       "      <td>4.3</td>\n",
       "      <td>Operating System: Android</td>\n",
       "      <td>Netflix|Prime Video|Disney+Hotstar|Youtube</td>\n",
       "      <td>Full HD 1920 x 1080 Pixels</td>\n",
       "      <td>0</td>\n",
       "      <td>0</td>\n",
       "      <td>0</td>\n",
       "      <td>0</td>\n",
       "      <td>0</td>\n",
       "      <td>0</td>\n",
       "      <td>0</td>\n",
       "      <td>0</td>\n",
       "    </tr>\n",
       "  </tbody>\n",
       "</table>\n",
       "</div>"
      ],
      "text/plain": [
       "   Stars                 Operating_system  \\\n",
       "0    4.2                20 Speaker Output   \n",
       "1    3.8  Operating System: Android Based   \n",
       "2    4.4          Operating System: WebOS   \n",
       "3    4.3        Operating System: Android   \n",
       "4    4.3        Operating System: Android   \n",
       "5    4.4          Operating System: Tizen   \n",
       "6    4.3        Operating System: Android   \n",
       "7    4.2        Operating System: Android   \n",
       "8    4.4          Operating System: WebOS   \n",
       "9    4.3        Operating System: Android   \n",
       "\n",
       "                                      channel  \\\n",
       "0                  HD Ready 1366 x 768 Pixels   \n",
       "1              Netflix|Disney+Hotstar|Youtube   \n",
       "2  Netflix|Prime Video|Disney+Hotstar|Youtube   \n",
       "3  Netflix|Prime Video|Disney+Hotstar|Youtube   \n",
       "4  Netflix|Prime Video|Disney+Hotstar|Youtube   \n",
       "5              Netflix|Disney+Hotstar|Youtube   \n",
       "6  Netflix|Prime Video|Disney+Hotstar|Youtube   \n",
       "7  Netflix|Prime Video|Disney+Hotstar|Youtube   \n",
       "8  Netflix|Prime Video|Disney+Hotstar|Youtube   \n",
       "9  Netflix|Prime Video|Disney+Hotstar|Youtube   \n",
       "\n",
       "                    Picture_quality  4K_1  4K_2  4K_3  4K  8K_1  8K_2  8K_3  \\\n",
       "0                60 Hz Refresh Rate     0     0     0   0     0     0     0   \n",
       "1        HD Ready 1366 x 768 Pixels     0     0     0   0     0     0     0   \n",
       "2        HD Ready 1366 x 768 Pixels     0     0     0   0     0     0     0   \n",
       "3        HD Ready 1366 x 768 Pixels     0     0     0   0     0     0     0   \n",
       "4        HD Ready 1366 x 768 Pixels     0     0     0   0     0     0     0   \n",
       "5        HD Ready 1366 x 768 Pixels     0     0     0   0     0     0     0   \n",
       "6        HD Ready 1366 x 768 Pixels     0     0     0   0     0     0     0   \n",
       "7        HD Ready 1366 x 768 Pixels     0     0     0   0     0     0     0   \n",
       "8  Ultra HD (4K) 3840 x 2160 Pixels     0     0     1   1     0     0     0   \n",
       "9        Full HD 1920 x 1080 Pixels     0     0     0   0     0     0     0   \n",
       "\n",
       "   8K  \n",
       "0   0  \n",
       "1   0  \n",
       "2   0  \n",
       "3   0  \n",
       "4   0  \n",
       "5   0  \n",
       "6   0  \n",
       "7   0  \n",
       "8   0  \n",
       "9   0  "
      ]
     },
     "execution_count": 104,
     "metadata": {},
     "output_type": "execute_result"
    }
   ],
   "source": [
    "df_q2[\"8K_1\"] = df_q2[\"Operating_system\"].str.contains(\"8K\") + 0\n",
    "df_q2[\"8K_2\"] = df_q2[\"channel\"].str.contains(\"8K\") + 0\n",
    "df_q2[\"8K_3\"] = df_q2[\"Picture_quality\"].str.contains(\"8K\") + 0\n",
    "df_q2[\"8K\"] = df_q2.loc[:, \"8K_1\":].sum(axis = 1)\n",
    "\n",
    "df_q2.head(10)"
   ]
  },
  {
   "cell_type": "code",
   "execution_count": 105,
   "id": "cb0a4441",
   "metadata": {},
   "outputs": [
    {
     "data": {
      "text/html": [
       "<div>\n",
       "<style scoped>\n",
       "    .dataframe tbody tr th:only-of-type {\n",
       "        vertical-align: middle;\n",
       "    }\n",
       "\n",
       "    .dataframe tbody tr th {\n",
       "        vertical-align: top;\n",
       "    }\n",
       "\n",
       "    .dataframe thead th {\n",
       "        text-align: right;\n",
       "    }\n",
       "</style>\n",
       "<table border=\"1\" class=\"dataframe\">\n",
       "  <thead>\n",
       "    <tr style=\"text-align: right;\">\n",
       "      <th></th>\n",
       "      <th>Stars</th>\n",
       "      <th>Operating_system</th>\n",
       "      <th>channel</th>\n",
       "      <th>Picture_quality</th>\n",
       "      <th>4K_1</th>\n",
       "      <th>4K_2</th>\n",
       "      <th>4K_3</th>\n",
       "      <th>4K</th>\n",
       "      <th>8K_1</th>\n",
       "      <th>8K_2</th>\n",
       "      <th>8K_3</th>\n",
       "      <th>8K</th>\n",
       "    </tr>\n",
       "  </thead>\n",
       "  <tbody>\n",
       "    <tr>\n",
       "      <th>661</th>\n",
       "      <td>4.6</td>\n",
       "      <td>NO Speaker Output</td>\n",
       "      <td>Ultra HD (4K) 3840 x 2160 pixels Pixels</td>\n",
       "      <td>60 Hz Refresh Rate</td>\n",
       "      <td>0</td>\n",
       "      <td>1</td>\n",
       "      <td>0</td>\n",
       "      <td>1</td>\n",
       "      <td>0</td>\n",
       "      <td>0</td>\n",
       "      <td>0</td>\n",
       "      <td>0</td>\n",
       "    </tr>\n",
       "    <tr>\n",
       "      <th>662</th>\n",
       "      <td>4.5</td>\n",
       "      <td>Operating System: Linux based</td>\n",
       "      <td>Netflix|Prime Video|Youtube</td>\n",
       "      <td>Ultra HD (4K) 3840 x 2160 Pixels</td>\n",
       "      <td>0</td>\n",
       "      <td>0</td>\n",
       "      <td>1</td>\n",
       "      <td>1</td>\n",
       "      <td>0</td>\n",
       "      <td>0</td>\n",
       "      <td>0</td>\n",
       "      <td>0</td>\n",
       "    </tr>\n",
       "    <tr>\n",
       "      <th>663</th>\n",
       "      <td>0.0</td>\n",
       "      <td>20 Speaker Output</td>\n",
       "      <td>HD Ready 1366 x 786 Pixels</td>\n",
       "      <td>60 Hz Refresh Rate</td>\n",
       "      <td>0</td>\n",
       "      <td>0</td>\n",
       "      <td>0</td>\n",
       "      <td>0</td>\n",
       "      <td>0</td>\n",
       "      <td>0</td>\n",
       "      <td>0</td>\n",
       "      <td>0</td>\n",
       "    </tr>\n",
       "    <tr>\n",
       "      <th>664</th>\n",
       "      <td>0.0</td>\n",
       "      <td>Full HD 1920 x 1080 Pixels</td>\n",
       "      <td>Netflix|Prime Video|Apple TV|Disney+Hotstar|Yo...</td>\n",
       "      <td>16 Speaker Output</td>\n",
       "      <td>0</td>\n",
       "      <td>0</td>\n",
       "      <td>0</td>\n",
       "      <td>0</td>\n",
       "      <td>0</td>\n",
       "      <td>0</td>\n",
       "      <td>0</td>\n",
       "      <td>0</td>\n",
       "    </tr>\n",
       "    <tr>\n",
       "      <th>665</th>\n",
       "      <td>4.4</td>\n",
       "      <td>10W + 10W Speaker Output</td>\n",
       "      <td>Ultra HD (4K) 3840 x 2160 pixels Pixels</td>\n",
       "      <td>50 Hz Refresh Rate</td>\n",
       "      <td>0</td>\n",
       "      <td>1</td>\n",
       "      <td>0</td>\n",
       "      <td>1</td>\n",
       "      <td>0</td>\n",
       "      <td>0</td>\n",
       "      <td>0</td>\n",
       "      <td>0</td>\n",
       "    </tr>\n",
       "  </tbody>\n",
       "</table>\n",
       "</div>"
      ],
      "text/plain": [
       "     Stars               Operating_system  \\\n",
       "661    4.6              NO Speaker Output   \n",
       "662    4.5  Operating System: Linux based   \n",
       "663    0.0              20 Speaker Output   \n",
       "664    0.0     Full HD 1920 x 1080 Pixels   \n",
       "665    4.4       10W + 10W Speaker Output   \n",
       "\n",
       "                                               channel  \\\n",
       "661            Ultra HD (4K) 3840 x 2160 pixels Pixels   \n",
       "662                        Netflix|Prime Video|Youtube   \n",
       "663                         HD Ready 1366 x 786 Pixels   \n",
       "664  Netflix|Prime Video|Apple TV|Disney+Hotstar|Yo...   \n",
       "665            Ultra HD (4K) 3840 x 2160 pixels Pixels   \n",
       "\n",
       "                      Picture_quality  4K_1  4K_2  4K_3  4K  8K_1  8K_2  8K_3  \\\n",
       "661                60 Hz Refresh Rate     0     1     0   1     0     0     0   \n",
       "662  Ultra HD (4K) 3840 x 2160 Pixels     0     0     1   1     0     0     0   \n",
       "663                60 Hz Refresh Rate     0     0     0   0     0     0     0   \n",
       "664                 16 Speaker Output     0     0     0   0     0     0     0   \n",
       "665                50 Hz Refresh Rate     0     1     0   1     0     0     0   \n",
       "\n",
       "     8K  \n",
       "661   0  \n",
       "662   0  \n",
       "663   0  \n",
       "664   0  \n",
       "665   0  "
      ]
     },
     "execution_count": 105,
     "metadata": {},
     "output_type": "execute_result"
    }
   ],
   "source": [
    "df_q2.tail()"
   ]
  },
  {
   "cell_type": "code",
   "execution_count": 106,
   "id": "8dbac075",
   "metadata": {},
   "outputs": [
    {
     "data": {
      "text/plain": [
       "(365, 1)"
      ]
     },
     "execution_count": 106,
     "metadata": {},
     "output_type": "execute_result"
    }
   ],
   "source": [
    "df_q2[\"4K\"].value_counts()[1], df_q2[\"8K\"].value_counts()[1]"
   ]
  },
  {
   "cell_type": "code",
   "execution_count": 107,
   "id": "47b67e35",
   "metadata": {},
   "outputs": [
    {
     "data": {
      "text/plain": [
       "0.38"
      ]
     },
     "execution_count": 107,
     "metadata": {},
     "output_type": "execute_result"
    }
   ],
   "source": [
    "stat_4k = df_q2.loc[df_q2[\"4K\"] == 1, \"Stars\"].mean()\n",
    "stat_8k = df_q2.loc[df_q2[\"8K\"] == 1, \"Stars\"].mean()\n",
    "round(abs(stat_4k - stat_8k), 2)"
   ]
  },
  {
   "cell_type": "code",
   "execution_count": null,
   "id": "78b6fe69",
   "metadata": {},
   "outputs": [],
   "source": []
  },
  {
   "cell_type": "code",
   "execution_count": null,
   "id": "f64d29bf",
   "metadata": {},
   "outputs": [],
   "source": []
  },
  {
   "cell_type": "code",
   "execution_count": 108,
   "id": "113d32a1",
   "metadata": {},
   "outputs": [],
   "source": [
    "# Q3 Answer"
   ]
  },
  {
   "cell_type": "code",
   "execution_count": 112,
   "id": "9282ea9e",
   "metadata": {},
   "outputs": [
    {
     "data": {
      "text/html": [
       "<div>\n",
       "<style scoped>\n",
       "    .dataframe tbody tr th:only-of-type {\n",
       "        vertical-align: middle;\n",
       "    }\n",
       "\n",
       "    .dataframe tbody tr th {\n",
       "        vertical-align: top;\n",
       "    }\n",
       "\n",
       "    .dataframe thead th {\n",
       "        text-align: right;\n",
       "    }\n",
       "</style>\n",
       "<table border=\"1\" class=\"dataframe\">\n",
       "  <thead>\n",
       "    <tr style=\"text-align: right;\">\n",
       "      <th></th>\n",
       "      <th>Product_Name</th>\n",
       "      <th>Stars</th>\n",
       "      <th>Ratings</th>\n",
       "      <th>Reviews</th>\n",
       "      <th>current_price</th>\n",
       "      <th>MRP</th>\n",
       "      <th>channel</th>\n",
       "      <th>Operating_system</th>\n",
       "      <th>Picture_quality</th>\n",
       "      <th>Speaker</th>\n",
       "      <th>Frequency</th>\n",
       "    </tr>\n",
       "  </thead>\n",
       "  <tbody>\n",
       "    <tr>\n",
       "      <th>0</th>\n",
       "      <td>Adsun</td>\n",
       "      <td>3.8</td>\n",
       "      <td>6742</td>\n",
       "      <td>930</td>\n",
       "      <td>8699</td>\n",
       "      <td>21999</td>\n",
       "      <td>Netflix|Disney+Hotstar|Youtube</td>\n",
       "      <td>Operating System: Android Based</td>\n",
       "      <td>HD Ready 1366 x 768 Pixels</td>\n",
       "      <td>20 W Speaker Output</td>\n",
       "      <td>60 Hz Refresh Rate</td>\n",
       "    </tr>\n",
       "    <tr>\n",
       "      <th>1</th>\n",
       "      <td>LG</td>\n",
       "      <td>4.4</td>\n",
       "      <td>38870</td>\n",
       "      <td>3443</td>\n",
       "      <td>16499</td>\n",
       "      <td>21990</td>\n",
       "      <td>Netflix|Prime Video|Disney+Hotstar|Youtube</td>\n",
       "      <td>Operating System: WebOS</td>\n",
       "      <td>HD Ready 1366 x 768 Pixels</td>\n",
       "      <td>10 W Speaker Output</td>\n",
       "      <td>50 Hz Refresh Rate</td>\n",
       "    </tr>\n",
       "  </tbody>\n",
       "</table>\n",
       "</div>"
      ],
      "text/plain": [
       "  Product_Name  Stars  Ratings  Reviews  current_price    MRP  \\\n",
       "0        Adsun    3.8     6742      930           8699  21999   \n",
       "1           LG    4.4    38870     3443          16499  21990   \n",
       "\n",
       "                                      channel  \\\n",
       "0              Netflix|Disney+Hotstar|Youtube   \n",
       "1  Netflix|Prime Video|Disney+Hotstar|Youtube   \n",
       "\n",
       "                  Operating_system             Picture_quality  \\\n",
       "0  Operating System: Android Based  HD Ready 1366 x 768 Pixels   \n",
       "1          Operating System: WebOS  HD Ready 1366 x 768 Pixels   \n",
       "\n",
       "               Speaker           Frequency  \n",
       "0  20 W Speaker Output  60 Hz Refresh Rate  \n",
       "1  10 W Speaker Output  50 Hz Refresh Rate  "
      ]
     },
     "execution_count": 112,
     "metadata": {},
     "output_type": "execute_result"
    }
   ],
   "source": [
    "df_q3 = df.loc[~df[\"channel\"].str.contains(\"Pixel|Oper\", regex=True)]\n",
    "df_q3 = df_q3.reset_index(drop=True)\n",
    "df_q3.head(2)"
   ]
  },
  {
   "cell_type": "code",
   "execution_count": 113,
   "id": "2d66e372",
   "metadata": {},
   "outputs": [
    {
     "data": {
      "text/html": [
       "<div>\n",
       "<style scoped>\n",
       "    .dataframe tbody tr th:only-of-type {\n",
       "        vertical-align: middle;\n",
       "    }\n",
       "\n",
       "    .dataframe tbody tr th {\n",
       "        vertical-align: top;\n",
       "    }\n",
       "\n",
       "    .dataframe thead th {\n",
       "        text-align: right;\n",
       "    }\n",
       "</style>\n",
       "<table border=\"1\" class=\"dataframe\">\n",
       "  <thead>\n",
       "    <tr style=\"text-align: right;\">\n",
       "      <th></th>\n",
       "      <th>Product_Name</th>\n",
       "      <th>Stars</th>\n",
       "      <th>Ratings</th>\n",
       "      <th>Reviews</th>\n",
       "      <th>current_price</th>\n",
       "      <th>MRP</th>\n",
       "      <th>channel</th>\n",
       "      <th>Operating_system</th>\n",
       "      <th>Picture_quality</th>\n",
       "      <th>Speaker</th>\n",
       "      <th>Frequency</th>\n",
       "      <th>x1</th>\n",
       "      <th>x2</th>\n",
       "      <th>x3</th>\n",
       "      <th>x4</th>\n",
       "      <th>x5</th>\n",
       "      <th>x6</th>\n",
       "    </tr>\n",
       "  </thead>\n",
       "  <tbody>\n",
       "    <tr>\n",
       "      <th>0</th>\n",
       "      <td>Adsun</td>\n",
       "      <td>3.8</td>\n",
       "      <td>6742</td>\n",
       "      <td>930</td>\n",
       "      <td>8699</td>\n",
       "      <td>21999</td>\n",
       "      <td>Netflix|Disney+Hotstar|Youtube</td>\n",
       "      <td>Operating System: Android Based</td>\n",
       "      <td>HD Ready 1366 x 768 Pixels</td>\n",
       "      <td>20 W Speaker Output</td>\n",
       "      <td>60 Hz Refresh Rate</td>\n",
       "      <td>0.137941</td>\n",
       "      <td>21999</td>\n",
       "      <td>0.395427</td>\n",
       "      <td>1</td>\n",
       "      <td>0</td>\n",
       "      <td>0</td>\n",
       "    </tr>\n",
       "    <tr>\n",
       "      <th>1</th>\n",
       "      <td>LG</td>\n",
       "      <td>4.4</td>\n",
       "      <td>38870</td>\n",
       "      <td>3443</td>\n",
       "      <td>16499</td>\n",
       "      <td>21990</td>\n",
       "      <td>Netflix|Prime Video|Disney+Hotstar|Youtube</td>\n",
       "      <td>Operating System: WebOS</td>\n",
       "      <td>HD Ready 1366 x 768 Pixels</td>\n",
       "      <td>10 W Speaker Output</td>\n",
       "      <td>50 Hz Refresh Rate</td>\n",
       "      <td>0.088577</td>\n",
       "      <td>21990</td>\n",
       "      <td>0.750296</td>\n",
       "      <td>1</td>\n",
       "      <td>1</td>\n",
       "      <td>0</td>\n",
       "    </tr>\n",
       "  </tbody>\n",
       "</table>\n",
       "</div>"
      ],
      "text/plain": [
       "  Product_Name  Stars  Ratings  Reviews  current_price    MRP  \\\n",
       "0        Adsun    3.8     6742      930           8699  21999   \n",
       "1           LG    4.4    38870     3443          16499  21990   \n",
       "\n",
       "                                      channel  \\\n",
       "0              Netflix|Disney+Hotstar|Youtube   \n",
       "1  Netflix|Prime Video|Disney+Hotstar|Youtube   \n",
       "\n",
       "                  Operating_system             Picture_quality  \\\n",
       "0  Operating System: Android Based  HD Ready 1366 x 768 Pixels   \n",
       "1          Operating System: WebOS  HD Ready 1366 x 768 Pixels   \n",
       "\n",
       "               Speaker           Frequency        x1     x2        x3  x4  x5  \\\n",
       "0  20 W Speaker Output  60 Hz Refresh Rate  0.137941  21999  0.395427   1   0   \n",
       "1  10 W Speaker Output  50 Hz Refresh Rate  0.088577  21990  0.750296   1   1   \n",
       "\n",
       "   x6  \n",
       "0   0  \n",
       "1   0  "
      ]
     },
     "execution_count": 113,
     "metadata": {},
     "output_type": "execute_result"
    }
   ],
   "source": [
    "df_q3[\"x1\"] = df_q3[\"Reviews\"] / df_q3[\"Ratings\"]\n",
    "df_q3[\"x2\"] = df_q3[\"MRP\"]\n",
    "df_q3[\"x3\"] = df_q3[\"current_price\"] / df_q3[\"MRP\"]\n",
    "df_q3[\"x4\"] = df_q3[\"channel\"].str.contains(\"Netflix\") + 0\n",
    "df_q3[\"x5\"] = df_q3[\"channel\"].str.contains(\"Prime Video\") + 0\n",
    "df_q3[\"x6\"] = df_q3[\"Picture_quality\"].str.contains(\"4K|8K\") + 0\n",
    "df_q3.head(2)"
   ]
  },
  {
   "cell_type": "code",
   "execution_count": 114,
   "id": "da998482",
   "metadata": {},
   "outputs": [
    {
     "data": {
      "text/plain": [
       "548"
      ]
     },
     "execution_count": 114,
     "metadata": {},
     "output_type": "execute_result"
    }
   ],
   "source": [
    "len(df_q3)"
   ]
  },
  {
   "cell_type": "code",
   "execution_count": 115,
   "id": "ed14d3ff",
   "metadata": {},
   "outputs": [
    {
     "data": {
      "text/plain": [
       "x1    351\n",
       "x2      0\n",
       "x3      0\n",
       "x4      0\n",
       "x5      0\n",
       "x6      0\n",
       "dtype: int64"
      ]
     },
     "execution_count": 115,
     "metadata": {},
     "output_type": "execute_result"
    }
   ],
   "source": [
    "df_q3.loc[:, \"x1\":\"x6\"].isna().sum()"
   ]
  },
  {
   "cell_type": "code",
   "execution_count": 116,
   "id": "c05c84f5",
   "metadata": {},
   "outputs": [
    {
     "data": {
      "text/plain": [
       "(548, 197)"
      ]
     },
     "execution_count": 116,
     "metadata": {},
     "output_type": "execute_result"
    }
   ],
   "source": [
    "df_q3_sub = df_q3.dropna()\n",
    "len(df_q3), len(df_q3_sub)"
   ]
  },
  {
   "cell_type": "code",
   "execution_count": 118,
   "id": "da79345b",
   "metadata": {},
   "outputs": [
    {
     "data": {
      "text/html": [
       "<div>\n",
       "<style scoped>\n",
       "    .dataframe tbody tr th:only-of-type {\n",
       "        vertical-align: middle;\n",
       "    }\n",
       "\n",
       "    .dataframe tbody tr th {\n",
       "        vertical-align: top;\n",
       "    }\n",
       "\n",
       "    .dataframe thead th {\n",
       "        text-align: right;\n",
       "    }\n",
       "</style>\n",
       "<table border=\"1\" class=\"dataframe\">\n",
       "  <thead>\n",
       "    <tr style=\"text-align: right;\">\n",
       "      <th></th>\n",
       "      <th>Stars</th>\n",
       "      <th>x1</th>\n",
       "      <th>x2</th>\n",
       "      <th>x3</th>\n",
       "      <th>x4</th>\n",
       "      <th>x5</th>\n",
       "      <th>x6</th>\n",
       "    </tr>\n",
       "  </thead>\n",
       "  <tbody>\n",
       "    <tr>\n",
       "      <th>0</th>\n",
       "      <td>3.8</td>\n",
       "      <td>0.137941</td>\n",
       "      <td>21999</td>\n",
       "      <td>0.395427</td>\n",
       "      <td>1</td>\n",
       "      <td>0</td>\n",
       "      <td>0</td>\n",
       "    </tr>\n",
       "    <tr>\n",
       "      <th>1</th>\n",
       "      <td>4.4</td>\n",
       "      <td>0.088577</td>\n",
       "      <td>21990</td>\n",
       "      <td>0.750296</td>\n",
       "      <td>1</td>\n",
       "      <td>1</td>\n",
       "      <td>0</td>\n",
       "    </tr>\n",
       "  </tbody>\n",
       "</table>\n",
       "</div>"
      ],
      "text/plain": [
       "   Stars        x1     x2        x3  x4  x5  x6\n",
       "0    3.8  0.137941  21999  0.395427   1   0   0\n",
       "1    4.4  0.088577  21990  0.750296   1   1   0"
      ]
     },
     "execution_count": 118,
     "metadata": {},
     "output_type": "execute_result"
    }
   ],
   "source": [
    "df_model = df_q3_sub[[\"Stars\", \"x1\", \"x2\", \"x3\", \"x4\", \"x5\", \"x6\"]].copy()\n",
    "df_model.head(2)"
   ]
  },
  {
   "cell_type": "code",
   "execution_count": 119,
   "id": "05af07d3",
   "metadata": {},
   "outputs": [],
   "source": [
    "from sklearn.ensemble import RandomForestRegressor"
   ]
  },
  {
   "cell_type": "code",
   "execution_count": 120,
   "id": "82364c7f",
   "metadata": {},
   "outputs": [
    {
     "data": {
      "text/plain": [
       "array([0.31220617, 0.17383963, 0.4446912 , 0.02714087, 0.02400442,\n",
       "       0.01811773])"
      ]
     },
     "execution_count": 120,
     "metadata": {},
     "output_type": "execute_result"
    }
   ],
   "source": [
    "model = RandomForestRegressor(random_state=123)\n",
    "model.fit(X = df_model.iloc[:, 1:], \n",
    "         y = df_model[\"Stars\"])\n",
    "model.feature_importances_"
   ]
  },
  {
   "cell_type": "code",
   "execution_count": 121,
   "id": "537f1e51",
   "metadata": {},
   "outputs": [
    {
     "data": {
      "text/html": [
       "<div>\n",
       "<style scoped>\n",
       "    .dataframe tbody tr th:only-of-type {\n",
       "        vertical-align: middle;\n",
       "    }\n",
       "\n",
       "    .dataframe tbody tr th {\n",
       "        vertical-align: top;\n",
       "    }\n",
       "\n",
       "    .dataframe thead th {\n",
       "        text-align: right;\n",
       "    }\n",
       "</style>\n",
       "<table border=\"1\" class=\"dataframe\">\n",
       "  <thead>\n",
       "    <tr style=\"text-align: right;\">\n",
       "      <th></th>\n",
       "      <th>x1</th>\n",
       "      <th>x2</th>\n",
       "      <th>x3</th>\n",
       "      <th>x4</th>\n",
       "      <th>x5</th>\n",
       "      <th>x6</th>\n",
       "    </tr>\n",
       "  </thead>\n",
       "  <tbody>\n",
       "    <tr>\n",
       "      <th>0</th>\n",
       "      <td>0.312206</td>\n",
       "      <td>0.17384</td>\n",
       "      <td>0.444691</td>\n",
       "      <td>0.027141</td>\n",
       "      <td>0.024004</td>\n",
       "      <td>0.018118</td>\n",
       "    </tr>\n",
       "  </tbody>\n",
       "</table>\n",
       "</div>"
      ],
      "text/plain": [
       "         x1       x2        x3        x4        x5        x6\n",
       "0  0.312206  0.17384  0.444691  0.027141  0.024004  0.018118"
      ]
     },
     "execution_count": 121,
     "metadata": {},
     "output_type": "execute_result"
    }
   ],
   "source": [
    "pd.DataFrame([model.feature_importances_], \n",
    "            columns=df_model.columns[1:])"
   ]
  },
  {
   "cell_type": "code",
   "execution_count": null,
   "id": "1d030399",
   "metadata": {},
   "outputs": [],
   "source": []
  }
 ],
 "metadata": {
  "kernelspec": {
   "display_name": "Python 3 (ipykernel)",
   "language": "python",
   "name": "python3"
  },
  "language_info": {
   "codemirror_mode": {
    "name": "ipython",
    "version": 3
   },
   "file_extension": ".py",
   "mimetype": "text/x-python",
   "name": "python",
   "nbconvert_exporter": "python",
   "pygments_lexer": "ipython3",
   "version": "3.9.13"
  }
 },
 "nbformat": 4,
 "nbformat_minor": 5
}
